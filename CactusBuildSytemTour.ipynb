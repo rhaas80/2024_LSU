{
 "cells": [
  {
   "cell_type": "markdown",
   "id": "d77af40f",
   "metadata": {},
   "source": [
    "# Building Cactus on a new computer"
   ]
  },
  {
   "cell_type": "markdown",
   "id": "a3ebc6e0-0620-4f2e-83f3-616eee318b3a",
   "metadata": {},
   "source": [
    "## Cactus build system\n",
    "\n",
    "<img src=\"http://einsteintoolkit.org/usersguide/bincactus2.png\" width=\"10%\" style=\"float:left\">\n",
    "\n",
    "Cactus's build system is using `make` as the top-level interface, combined with code being generate from Cactus's `ccl` files that implement a domain specific language to describe the Cactus thorns (modules). To support different host operating systems, for example Linux on clusters and macOS on personal laptops, as well as different compilers, for example the GNU compiler collection, Intel's compiler, or LLVM / clang, the build system uses makefile variables. These are supplied via option list files, with those for public clusters being collected by tools like Simulation Factory or batchtools. A thornlist file is is used by the build system to decide which thorns to include in the compiled executable, with each thorn existing in its own subdirectory of the Cactus source tree.\n",
    "\n",
    "Once compiled a simulation is the submitted to the cluster's queueing system for execution using a number of MPI ranks and reserving core for each MPI rank.\n",
    "\n",
    "Tools like Simulation Factory and GetComponents try to assist in providing option lists and pre-made files to ease submitting simulations on clusters.\n",
    "\n",
    "At the end of this presentation I hope you will be able to understand a bit what goes on in each step and this will help understand how to interpret error messages reported when building Cactus."
   ]
  },
  {
   "cell_type": "markdown",
   "id": "a0f35ac6-6d0a-4f87-a2f3-ae3fc26bed6b",
   "metadata": {},
   "source": [
    "## How to use this tutorial\n",
    "\n",
    "This tutorial will not show all the possible ways to compile and use Cactus, nor does it aim to replace Cactus' and Simfactory's documentation. For those please consult the Cactus [UsersGuide](http://einsteintoolkit.org/usersguide/UsersGuide.html), the [Configuring a new machine](https://docs.einsteintoolkit.org/et-docs/Configuring_a_new_machine) Einstein Toolkit wiki and / or the  [Simulation Factory User Guide](https://simfactory.bitbucket.io/simfactory2/userguide/), the [Setting up Simfactory on a new machine](https://www.einsteintoolkit.org/seminars/2022_02_24/index.html) ET Seminar including [its notebooks](https://www.einsteintoolkit.org/seminars/2022_02_24/new_machine.ipynb) and especially [chapter](http://einsteintoolkit.org/usersguide/UsersGuide.html#x1-19000B2.1) \"Configuration Options\" of the Cactus UsersGuide.\n",
    "\n",
    "Instead it provides a guide tour of how things work \"under the hood\" that will let you understand a bit better exactly what Cactus complains about when it fails to compile or a simulation fails to start. As such: your milage may vary!"
   ]
  },
  {
   "cell_type": "markdown",
   "id": "3c2be144-8b8b-4a8c-960f-e58e2f7a2931",
   "metadata": {},
   "source": [
    "## Cactus directory structure\n",
    "\n",
    "Cactus organizes thorns in thematically connected `arrangements`, like the `CactusNumerical` arrangement containing thorns that deal with numerical metrics. Only a single level nesting is allowed, so there are no arrangements of `arrangements`. All arrangements exist as subdirectories of the main `Cactus` directory. \n",
    "\n",
    "Each thorn provides \n",
    "\n",
    "* `configuration.ccl` that describes the capabilities that the thorn requires and provides (section [D2.5](http://einsteintoolkit.org/usersguide/UsersGuide.html#x1-193000D2.5) of UsersGuide)\n",
    "* `interface.ccl` that describes the variables that the thorn uses (section [D2.2](http://einsteintoolkit.org/usersguide/UsersGuide.html#x1-180000D2.2) of UsersGuide) \n",
    "* `param.ccl` that describes the runtime parameters that the thorn supports (section [D2.3](http://einsteintoolkit.org/usersguide/UsersGuide.html#x1-185000D2.3) of UsersGuide)\n",
    "* `schedule.ccl` specifying which routines are to be called (section [D2.4](http://einsteintoolkit.org/usersguide/UsersGuide.html#x1-188000D2.4) of UsersGuide)\n",
    "* `make.code.defn` (in the simplest case) list all the source files to be compiled (section [C1.2.5](http://einsteintoolkit.org/usersguide/UsersGuide.html#x1-56000C1.2.5) of UsersGuide)\n",
    "\n",
    "Cactus' `Makefile` defines compilation targets that are using to compile the code, build documentation or clean up build artifacts. \n",
    "\n",
    "The `configs` directory contains processed source code files, object files and processed copies of other input files.\n",
    "\n",
    "```\n",
    "Cactus\n",
    " +- Makefile\n",
    " +- arrangements\n",
    " |    +- Tests\n",
    " |         +- HeatEqun\n",
    " |         |   +- configuration.ccl\n",
    " |         |   +- interface.ccl\n",
    " |         |   +- param.ccl\n",
    " |         |   +- schedule.ccl\n",
    " |         |   +- make.code.defn\n",
    " |         |   +- src\n",
    " |         |       +- init.c\n",
    " |         |       +- evolve.c\n",
    " |         +- WaveEqun\n",
    " |             +- configuration.ccl\n",
    " |             +- interface.ccl\n",
    " |             +- param.ccl\n",
    " |             +- schedule.ccl\n",
    " |             +- make.code.defn\n",
    " |             +- src\n",
    " |                 +- init.c\n",
    " |                 +- evolve.c\n",
    " +- configs\n",
    "      +- sim\n",
    "          +- ThornList\n",
    "          +- config-info\n",
    "          +- config-data\n",
    "              +- make.config.defn\n",
    "          +- build\n",
    "              +- HeatEqn\n",
    "                   +- init.c\n",
    "                   +- init.c.d\n",
    "                   +- init.c.o\n",
    "```"
   ]
  },
  {
   "cell_type": "markdown",
   "id": "549210e1-9ebb-42a9-adef-8ed592afbadb",
   "metadata": {},
   "source": [
    "## Downloading Cactus\n",
    "\n",
    "The usual method is to use `GetComponents` which takes as input a thornlist with extra commands specific in ''components retrieval language'' ([CRL](https://arxiv.org/abs/1009.1342)). Here instead we will do things by hand to show the assembly."
   ]
  },
  {
   "cell_type": "code",
   "execution_count": null,
   "id": "374bd97d-be27-4fc7-9c1e-569ec1be6dd0",
   "metadata": {},
   "outputs": [],
   "source": [
    "%%bash \n",
    "\n",
    "git clone --depth 1 https://bitbucket.org/cactuscode/cactus.git CactusBare"
   ]
  },
  {
   "cell_type": "markdown",
   "id": "115d94df-90a2-4533-9df6-c3d26758cc87",
   "metadata": {},
   "source": [
    "```\n",
    "Cloning into 'CactusBare'...\n",
    "remote: Enumerating objects: 391, done.\n",
    "remote: Counting objects: 100% (391/391), done.\n",
    "remote: Compressing objects: 100% (366/366), done.\n",
    "remote: Total 391 (delta 38), reused 157 (delta 13), pack-reused 0 (from 0)\n",
    "Receiving objects: 100% (391/391), 2.40 MiB | 7.07 MiB/s, done.\n",
    "Resolving deltas: 100% (38/38), done.\n",
    "```"
   ]
  },
  {
   "cell_type": "code",
   "execution_count": null,
   "id": "9ce5a712-88c4-47d6-8b28-feee1de1d437",
   "metadata": {},
   "outputs": [],
   "source": [
    "cd CactusBare"
   ]
  },
  {
   "cell_type": "code",
   "execution_count": null,
   "id": "3d605264-998b-4a59-acea-1f3a2b947d26",
   "metadata": {},
   "outputs": [],
   "source": [
    "%%bash\n",
    "\n",
    "ls -F"
   ]
  },
  {
   "cell_type": "markdown",
   "id": "36b0a6db-ce8c-4852-bd03-af04d67e5c11",
   "metadata": {},
   "source": [
    "```\n",
    "CONTRIBUTORS  COPYRIGHT  Makefile  README.md  doc/  lib/  src/\n",
    "```"
   ]
  },
  {
   "cell_type": "code",
   "execution_count": null,
   "id": "484fcfe3-c241-4783-815c-1dc427553df6",
   "metadata": {},
   "outputs": [],
   "source": [
    "%%bash\n",
    "\n",
    "mkdir arrangements"
   ]
  },
  {
   "cell_type": "code",
   "execution_count": null,
   "id": "9b8c61e0-8c99-4174-9b46-a95182db31e6",
   "metadata": {},
   "outputs": [],
   "source": [
    "cd arrangements"
   ]
  },
  {
   "cell_type": "code",
   "execution_count": null,
   "id": "3374859a-0212-4d8e-8ab2-8ceb46275361",
   "metadata": {},
   "outputs": [],
   "source": [
    "%%bash\n",
    "\n",
    "git clone https://bitbucket.org/cactuscode/cactuswave CactusWave"
   ]
  },
  {
   "cell_type": "markdown",
   "id": "c5193b63-9da3-4d2c-9a0f-96c78e976538",
   "metadata": {},
   "source": [
    "```\n",
    "Cloning into 'CactusWave'...\n",
    "remote: Enumerating objects: 232, done.\n",
    "remote: Counting objects: 100% (232/232), done.\n",
    "remote: Compressing objects: 100% (204/204), done.\n",
    "remote: Total 232 (delta 83), reused 85 (delta 16), pack-reused 0 (from 0)\n",
    "Receiving objects: 100% (232/232), 118.69 KiB | 2.70 MiB/s, done.\n",
    "Resolving deltas: 100% (83/83), done.\n",
    "```"
   ]
  },
  {
   "cell_type": "markdown",
   "id": "2214db69-0e17-4679-84f1-a838461dc380",
   "metadata": {},
   "source": [
    "We will also need some of Cactus' infrastructure thorns:"
   ]
  },
  {
   "cell_type": "code",
   "execution_count": null,
   "id": "3c627741-e8a7-4256-988b-f744739e726c",
   "metadata": {},
   "outputs": [],
   "source": [
    "%%bash \n",
    "\n",
    "git clone https://bitbucket.org/cactuscode/cactusbase CactusBase"
   ]
  },
  {
   "cell_type": "markdown",
   "id": "8b6968ca-f600-43f1-b065-0e121a85862e",
   "metadata": {},
   "source": [
    "```\n",
    "Cloning into 'CactusBase'...\n",
    "remote: Enumerating objects: 8163, done.\n",
    "remote: Counting objects: 100% (8163/8163), done.\n",
    "remote: Compressing objects: 100% (2690/2690), done.\n",
    "remote: Total 8163 (delta 6043), reused 7193 (delta 5322), pack-reused 0 (from 0)\n",
    "Receiving objects: 100% (8163/8163), 1.53 MiB | 9.00 MiB/s, done.\n",
    "Resolving deltas: 100% (6043/6043), done.\n",
    "```"
   ]
  },
  {
   "cell_type": "code",
   "execution_count": null,
   "id": "82dade5e-fb0e-4013-8af1-d77eb50955a1",
   "metadata": {},
   "outputs": [],
   "source": [
    "%%bash\n",
    "\n",
    "git clone https://bitbucket.org/cactuscode/cactuspugh CactusPUGH"
   ]
  },
  {
   "cell_type": "markdown",
   "id": "cc991c7e-e9ad-4693-9fe3-077051f72378",
   "metadata": {},
   "source": [
    "```\n",
    "Cloning into 'CactusPUGH'...remote: Enumerating objects: 4769, done.\n",
    "remote: Counting objects: 100% (4769/4769), done.\n",
    "remote: Compressing objects: 100% (1561/1561), done.\n",
    "remote: Total 4769 (delta 3103), reused 4571 (delta 2975), pack-reused 0 (from 0)\n",
    "Receiving objects: 100% (4769/4769), 939.56 KiB | 8.62 MiB/s, done.\n",
    "Resolving deltas: 100% (3103/3103), done.\n",
    "```"
   ]
  },
  {
   "cell_type": "code",
   "execution_count": null,
   "id": "96999842-e38e-4d57-9220-70e5a1b67901",
   "metadata": {},
   "outputs": [],
   "source": [
    "%%bash\n",
    "\n",
    "mkdir ExternalLibraries\n",
    "git clone --depth=1 https://github.com/einsteintoolkit/ExternalLibraries-MPI ExternalLibraries/MPI"
   ]
  },
  {
   "cell_type": "code",
   "execution_count": null,
   "id": "0ccfcf49-8181-4a5f-828a-c6a6e27ad944",
   "metadata": {},
   "outputs": [],
   "source": [
    "cd .."
   ]
  },
  {
   "cell_type": "markdown",
   "id": "f3f997a9-fd13-421d-be34-a6649d37d0fc",
   "metadata": {},
   "source": [
    "## Makefile targets\n",
    "\n",
    "At this point we have manually assembled a very basic Cactus checkout consisting of only the flesh the CactusWave arrangment. We are now ready to compile Cactus. \n",
    "\n",
    "Cactus uses a number of makefile targets to control what is actually built, e.g., the executable, or documention or also phony targets used to clean up in case things go sideways.\n",
    "\n",
    "The interesting targets are (details are in UsersGuide section [B2.4](http://einsteintoolkit.org/usersguide/UsersGuide.html#x1-24000B2.4)):\n",
    "\n",
    "* `<configuration>-config` which (re-)creates a configuration\n",
    "* `<configuration>-clean` which deletes all compiled object and library files\n",
    "* `<configuration>-realclean` which additinally deletes all dependency tracking files (use if things are pear-shaped)\n",
    "* `<configuration>-cleandeps` which removes only the dependency tracking files (use if you eg do an OS update)\n",
    "* `<configuration>-rebuild` re-runs CST (re-interprets ccl files), mostly useful when developing ExternalLibraries\n",
    "* `<configuration>-build` compile only a single thorn and its dependencies (see below)\n",
    "* `<configuration>-utils` compile the utilities included with the thorns\n",
    "\n",
    "Additional informations passed to `make` as command line options\n",
    "\n",
    "* `options` the name of an option list\n",
    "* `THORNLIST` the thornlist file to compile\n",
    "* `BUILDLIST` a space separated list of thorn to compile for the `<configuration>-build` target"
   ]
  },
  {
   "cell_type": "markdown",
   "id": "2b0c786a-e64c-4f6c-9d86-4fbd267602b1",
   "metadata": {},
   "source": [
    "We will require a thornlist and an option list to proceed. Simulation Factory comes with a database of option lists and the Cactus `utils/Scripts/MakeThornList` can be used to create a thornlist suitable for a given parameter file based on a template thornlist. Finally the tool `lib/sbin/ThornList.pl` can create a list of all the available thorns. In our case we will use a custom thornlist."
   ]
  },
  {
   "cell_type": "code",
   "execution_count": null,
   "id": "242f6027-ddc2-42a6-a849-657f9b651e95",
   "metadata": {},
   "outputs": [],
   "source": [
    "%%bash\n",
    "\n",
    "cat <<\"#EOF\" >wavethorns.th\n",
    "CactusBase/Boundary\n",
    "CactusBase/CartGrid3D\n",
    "CactusBase/CoordBase\n",
    "CactusBase/Fortran\n",
    "CactusBase/IOASCII\n",
    "CactusBase/IOBasic\n",
    "CactusBase/IOUtil\n",
    "CactusBase/SymBase\n",
    "CactusBase/Time\n",
    "CactusPUGH/PUGH\n",
    "CactusPUGH/PUGHReduce\n",
    "CactusPUGH/PUGHSlab\n",
    "CactusWave/IDScalarWave\n",
    "CactusWave/IDScalarWaveC\n",
    "CactusWave/WaveToyC\n",
    "CactusWave/WaveToyF90\n",
    "ExternalLibraries/MPI\n",
    "#EOF"
   ]
  },
  {
   "cell_type": "markdown",
   "id": "8bfda693-1061-4693-9714-b6e2838d8169",
   "metadata": {},
   "source": [
    "Next we need a very simple option list. Usually, in particular on clusters, these would be provided by a database of option lists in Simulation Factory. However Cactus actually has a built in set of defaults that it will use to fill in any missing option. \n",
    "\n",
    "This functionality is implemented by the `known-architectures` files in `lib/make/known-architectures/`:\n",
    "\n",
    "```\n",
    "aix     darwin   hp-ux  linux-gnu      linux-gnulibc1  solaris  unicosmp            xt4-cray-catamount\n",
    "bgl     freebsd  irix   linux-gnuaout  openbsd         superux  uxpv4.1_ES          xt4-cray-linux\n",
    "cygwin  hiuxwe2  linux  linux-gnueabi  osf             unicos   xt3-cray-catamount\n",
    "```\n",
    "\n",
    "which are bash scripts that try to infere options, e.g., for OpenMP, based on the operating system and copmiler used.\n",
    "\n",
    "For now we will use a very minimal set of options."
   ]
  },
  {
   "cell_type": "code",
   "execution_count": null,
   "id": "297537c7-5eda-4645-b6f1-0d8e544d97c1",
   "metadata": {},
   "outputs": [],
   "source": [
    "%%bash\n",
    "\n",
    "cat <<\"#EOF\" >options.cfg\n",
    "CC=gcc\n",
    "CXX=g++\n",
    "F90=gfortran\n",
    "FPP=cpp\n",
    "FPPFLAGS=-traditional\n",
    "#EOF"
   ]
  },
  {
   "cell_type": "markdown",
   "id": "19965910-0ee5-47f1-afb4-e5c945e60006",
   "metadata": {},
   "source": [
    "There are actually 3 (common) ways to pass options to Cactus, in order of precedence:\n",
    "\n",
    "* environment variables, e.g., `export DEBUG=yes`\n",
    "* the option list, `make sim-config options=options.cfg` (and yes, `options` itself is an option)\n",
    "* at the command line `make sim-config VERBOSE=yes` (this actually how we pass the `options` option)\n",
    "\n",
    "Of these the environment option one can be surprising on clusters where an environment variable set by the `module` command may conflict with a Cactus option.\n",
    "\n",
    "**ExternalLibraries:** Options passed to ExternalLibraries (e.g., HDF5, GSL) are an exception to this. For them environment options are only acted on during the CST (first stage of compiling) stage and override otion list values. This can and has cause problems on clusters."
   ]
  },
  {
   "cell_type": "markdown",
   "id": "a8c640a6-6e2a-43d6-b483-b2a11eb12ffe",
   "metadata": {},
   "source": [
    "## Configuration options"
   ]
  },
  {
   "cell_type": "code",
   "execution_count": null,
   "id": "e0759e3c-13c1-4748-9316-dbfbc1d23041",
   "metadata": {},
   "outputs": [],
   "source": [
    "%%bash\n",
    "\n",
    "# if this hangs for you and does not react to input, add <<<\"yes\" at the end\n",
    "make wave-config options=options.cfg THORNLIST=wavethorns.th"
   ]
  },
  {
   "cell_type": "markdown",
   "id": "d88a9b23-902a-45cf-89f0-09992e48f6bf",
   "metadata": {},
   "source": [
    "```\n",
    "Setup configuration wave (yes)?\n",
    "Setting up new configuration wave\n",
    "Completely new cactus build.  Creating config database\n",
    "Creating new configuration wave.\n",
    "Using configuration options from configure line\n",
    "  Setting THORNLIST to 'wavethorns.th'\n",
    "End of options from configure line\n",
    "Adding configuration options from 'options.cfg'...\n",
    "  Setting CC to 'gcc'\n",
    "  Setting CXX to 'g++'\n",
    "  Setting F90 to 'gfortran'\n",
    "  Setting FPP to 'cpp'\n",
    "  Setting FPPFLAGS to '-traditional'\n",
    "End of options from 'options.cfg'.\n",
    "creating cache ./config.cache\n",
    "checking host system type... x86_64-pc-linux-gnu\n",
    "checking for mawk... mawk\n",
    "Setting FPP to /lib/cpp\n",
    "Setting FPPFLAGS to -traditional\n",
    "checking whether make sets ${MAKE}... yes\n",
    "checking whether the C compiler (gcc  ) works... yes\n",
    "checking whether the C compiler (gcc  ) is a cross-compiler... no\n",
    "checking whether we are using GNU C... yes\n",
    "checking whether the C++ compiler (g++  ) works... yes\n",
    "checking whether the C++ compiler (g++  ) is a cross-compiler... no\n",
    "checking whether we are using GNU C++... yes\n",
    "checking for nvcc... no\n",
    "[...]\n",
    "checking whether linker supports --whole-archive... yes\n",
    "checking whether linker supports -filelist... no\n",
    "creating cctk_Archdefs.h\n",
    "creating make.arch.defn\n",
    "creating cctk_Extradefs.h\n",
    "creating make.extra.defn\n",
    "updating cache ./config.cache\n",
    "creating ./config.status\n",
    "creating make.config.defn\n",
    "creating make.config.deps\n",
    "creating make.config.rules\n",
    "creating cctk_Config.h\n",
    "Determining number of fortran underscores...\n",
    "Compiling test file with gfortran  ...\n",
    "Lowercase - One trailing underscore\n",
    "Compiling test file with gfortran  ...\n",
    "Lowercase - One trailing underscore\n",
    "Use make wave to build the configuration.\n",
    "```"
   ]
  },
  {
   "cell_type": "markdown",
   "id": "f03ff00f-984d-4f1c-aa47-2db7f553698c",
   "metadata": {},
   "source": [
    "Cactus created a new configuration `wave` in `configs/wave` using the option list passed to make. It also reports having created a number of files and how to build the configuration.\n",
    "\n",
    "Let's take look at the files present:"
   ]
  },
  {
   "cell_type": "markdown",
   "id": "6a87902f-9297-42ae-a0f1-5a2360de70ac",
   "metadata": {},
   "source": [
    "%%bash\n",
    "\n",
    "ls -F configs/wave/"
   ]
  },
  {
   "cell_type": "markdown",
   "id": "dab5fc51-8337-41a7-bb90-16d5c35ffa4f",
   "metadata": {},
   "source": [
    "```\n",
    "ThornList  build/  config-data/  config-info  lib/  scratch/\n",
    "```"
   ]
  },
  {
   "cell_type": "markdown",
   "id": "d343b0cd-fd0c-4d66-837b-0e667bb3e8fb",
   "metadata": {},
   "source": [
    "Of these `config-info` is essentially a copy of the option list we passed in along with any options passed on the command line (except for those for ExternalLibraries):"
   ]
  },
  {
   "cell_type": "code",
   "execution_count": null,
   "id": "6c8ffa18-fd69-43e3-8696-bf2361ecbc3f",
   "metadata": {},
   "outputs": [],
   "source": [
    "%%bash\n",
    "\n",
    "cat configs/wave/config-info"
   ]
  },
  {
   "cell_type": "markdown",
   "id": "cc307d0d-7c0b-4a9b-8bd2-f7d235f8749a",
   "metadata": {},
   "source": [
    "```\n",
    "# CONFIGURATION  : wave\n",
    "# CONFIG-DATE    : Fri Jun  7 11:47:49 2024 (GMT)\n",
    "# CONFIG-HOST    : slurmjupyter\n",
    "# CONFIG-STATUS  : 0\n",
    "# CONFIG-OPTIONS :\n",
    "CC=gcc\n",
    "CXX=g++\n",
    "F90=gfortran\n",
    "FPP=cpp\n",
    "FPPFLAGS=-traditional\n",
    "THORNLIST=wavethorns.th\n",
    "```"
   ]
  },
  {
   "cell_type": "markdown",
   "id": "38b96d3c-cf13-4555-a894-0e9c1d03a0be",
   "metadata": {},
   "source": [
    "The complete set of all options used (again except ExternalLibraries) is in `configs/wave/config-data/make.config.defn`, one of the files that make created."
   ]
  },
  {
   "cell_type": "code",
   "execution_count": null,
   "id": "b0fa0d8e-7f03-45eb-8e71-16ee8f80d626",
   "metadata": {},
   "outputs": [],
   "source": [
    "%%bash\n",
    "\n",
    "cat configs/wave/config-data/make.config.defn"
   ]
  },
  {
   "cell_type": "markdown",
   "id": "d794fe82-52b0-40f0-b379-aa627ceaac78",
   "metadata": {},
   "source": [
    "```\n",
    "# /*@@\n",
    "#   @file    make.config.defn.in\n",
    "#   @date    Sun Jan 17 22:33:51 1999\n",
    "#   @author  Tom Goodale\n",
    "#   @desc\n",
    "#            Make definition file for a configuration\n",
    "#            Defines the compilers, etc.\n",
    "#\n",
    "#            Should be run through autoconf to produce make.config.defn\n",
    "#   @enddesc\n",
    "#   @version $Header$\n",
    "# @@*/\n",
    "\n",
    "# Include stuff defined by optional extra arrangements\n",
    "include $(TOP)/config-data/make.extra.defn\n",
    "\n",
    "# Include all required external libraries from configuration\n",
    "-include $(TOP)/bindings/Configuration/make.link\n",
    "\n",
    "\n",
    "# Compiler/executable info\n",
    "export SHELL       = /bin/sh\n",
    "export MKDIR       = mkdir\n",
    "export CC          = gcc\n",
    "export CXX         = g++\n",
    "export CUCC        = \n",
    "export F90         = gfortran\n",
    "export F77         = gfortran\n",
    "export CPP         = /usr/bin/cpp\n",
    "export FPP         = /lib/cpp\n",
    "export LD          = g++\n",
    "[...]\n",
    "# Are we building with all warnings switched on ?\n",
    "# This option may be overwritten at compile time.\n",
    "ifeq ($(WARN),)\n",
    "  export CCTK_WARN_MODE = no\n",
    "else\n",
    "  export CCTK_WARN_MODE = $(WARN)\n",
    "endif\n",
    "\n",
    "ifeq ($(strip $(CCTK_WARN_MODE)),yes)\n",
    "  CPPFLAGS  += $(CPP_WARN_FLAGS)\n",
    "  FPPFLAGS  += $(FPP_WARN_FLAGS)\n",
    "  CFLAGS    += $(C_WARN_FLAGS)\n",
    "  CXXFLAGS  += $(CXX_WARN_FLAGS)\n",
    "  CUCCFLAGS += $(CUCC_WARN_FLAGS)\n",
    "  F77FLAGS  += $(F77_WARN_FLAGS)\n",
    "  F90FLAGS  += $(F90_WARN_FLAGS)\n",
    "endif\n",
    "\n",
    "# Stuff specific to an architecture.\n",
    "include $(TOP)/config-data/make.arch.defn\n",
    "```"
   ]
  },
  {
   "cell_type": "markdown",
   "id": "c308b6eb-ec53-429d-b0a7-0d33e4239929",
   "metadata": {},
   "source": [
    "ExternalLibraries and how they interact with the build system if often a source of problems, not least because it is not obvious exaxtly which options they support.\n",
    "\n",
    "The UersGuide chapter [B2.2](https://www.einsteintoolkit.org/usersguide/UsersGuide.html#x1-21000B2.2) describes how a generic ExternalLibrary is expected to behave, yet, since they all grew organically and were not designed at the same time, some (most of of) ExternalLibraries deviate from this baheviour in various ways.\n",
    "\n",
    "On the technical level all ExternalLibraries use Cactus' ''capabilities'' functionality and `configuration.ccl` to declare the option they support to the Cactus build system and report any make options they require as output of a custom configuration script.\n",
    "\n",
    "For the `MPI` ExternalLibrary has a `configuration.ccl` file that looks like this:"
   ]
  },
  {
   "cell_type": "code",
   "execution_count": null,
   "id": "33da6c3b-4074-4ac5-9b73-c720e1ad98d4",
   "metadata": {},
   "outputs": [],
   "source": [
    "%%bash\n",
    "\n",
    "cat arrangements/ExternalLibraries/MPI/configuration.ccl"
   ]
  },
  {
   "cell_type": "markdown",
   "id": "6d0fa729-a3d1-4aae-b198-1a57b128e257",
   "metadata": {},
   "source": [
    "```\n",
    "# Configuration definitions for thorn MPI\n",
    "\n",
    "PROVIDES MPI\n",
    "{\n",
    "  SCRIPT src/detect.pl\n",
    "  LANG perl\n",
    "  OPTIONS MPI MPI_DIR MPI_INC_DIRS MPI_LIB_DIRS MPI_LIBS MPI_INSTALL_DIR HWLOC_DIR\n",
    "}\n",
    "\n",
    "# Pass configuration options to build script\n",
    "REQUIRES MPI\n",
    "\n",
    "OPTIONAL hwloc\n",
    "{\n",
    "}\n",
    "```"
   ]
  },
  {
   "cell_type": "markdown",
   "id": "9e8f64b8-a2ea-44e6-8d4f-0c0dc65b862e",
   "metadata": {},
   "source": [
    "This indicates that ExternalLibraries/MPI `PROVIDES` the capability `MPI` and supports options\n",
    "\n",
    "* `MPI`\n",
    "* `MPI_DIR`\n",
    "* `MPI_INC_DIRS`\n",
    "* `MPI_LIB_DIRS`\n",
    "* `MPI_LIBS`\n",
    "* `MPI_INSTALL_DIR`\n",
    "* `HWLOC_DIR`\n",
    "\n",
    "where the last one (`HWLOC_DIR`) is actually from ExternalLibraries/hwloc that `MPI` can use. This one may not actually be require here to make MPI work.\n",
    "\n",
    "MPI can optionally (if present at compile time) use `hwloc`, but will work without. "
   ]
  },
  {
   "cell_type": "markdown",
   "id": "f68b2a0b-c1e7-4748-ba1c-0d7b3e6c6a6f",
   "metadata": {},
   "source": [
    "`configuration.ccl` and thus MPI's options are processed during the \"CST\" stage of the Cactus build when all the `ccl` files are being parsed. This happens *after* the `make wave-config` stage, and is why ExternalLibrary options behave differently from \"core\" Cactus option list options.\n",
    "\n",
    "Let's take a look what happens."
   ]
  },
  {
   "cell_type": "code",
   "execution_count": null,
   "id": "ce48f15a-c22e-41c6-8b3a-c6c4afcef628",
   "metadata": {},
   "outputs": [],
   "source": [
    "%%bash\n",
    "\n",
    "make wave-build BUILDLIST=MPI"
   ]
  },
  {
   "cell_type": "markdown",
   "id": "96f66080-721f-4227-ac7b-d58b582a5a53",
   "metadata": {},
   "source": [
    "```\n",
    "Cactus - version: 4.15.0\n",
    "Building thorns 'MPI' of configuration wave\n",
    "Reconfiguring thorns\n",
    "Reading ThornList...\n",
    "Parsing configuration files...\n",
    "   Boundary\n",
    "           Provides:          Boundary \n",
    "[...]\n",
    "   WaveToyF90\n",
    "          11 schedule blocks.\n",
    "Running any thorn-provided configuration scripts...\n",
    "\n",
    "********************************************************************************\n",
    "Running configuration script for thorn FORTRAN:\n",
    "Found a traditional Fortran cpp\n",
    "Finished running configuration script for thorn FORTRAN.\n",
    "\n",
    "********************************************************************************\n",
    "Running configuration script for thorn MPI:\n",
    "MPI selected, but MPI_DIR is not set. Computing settings...\n",
    "Found MPI compiler wrapper at /usr/bin/mpic++!\n",
    "Successfully configured MPI.\n",
    "Finished running configuration script for thorn MPI.\n",
    "Checking consistency...\n",
    "Creating Thorn-Flesh bindings...\n",
    "   Creating implementation bindings...\n",
    "   Creating parameter bindings...\n",
    "   Creating variable bindings...\n",
    "   Creating schedule bindings...\n",
    "   Creating function bindings...\n",
    "   Generating arguments...\n",
    "CST finished.\n",
    "Checking status of thorn MPI\n",
    "```"
   ]
  },
  {
   "cell_type": "markdown",
   "id": "e0eb1119-0d79-476c-84ab-03b9f44c5991",
   "metadata": {},
   "source": [
    "So the configuation script for MPI was ran, it found a `mpic++` compiler in `/usr/bin/mpic++` and used it to determine the correct values for `MPI_DIR` etc. that I had not specified in my option list.\n",
    "\n",
    "Where did those values go though?\n",
    "\n",
    "They are not in `configs/wave/config-info` or even `configs/wave/config-data/make.config.defn`. \n",
    "\n",
    "Instead there is now a `bindings` directory:"
   ]
  },
  {
   "cell_type": "code",
   "execution_count": null,
   "id": "03690c64-7318-476c-8ed8-0b93a71fbb4f",
   "metadata": {},
   "outputs": [],
   "source": [
    "%%bash\n",
    "\n",
    "ls -F configs/wave"
   ]
  },
  {
   "cell_type": "markdown",
   "id": "d40ffb86-01af-4beb-91a4-4f3e34c9fd33",
   "metadata": {},
   "source": [
    "ThornList  bindings/  build/  config-data/  config-info  lib/  piraha/  scratch/"
   ]
  },
  {
   "cell_type": "markdown",
   "id": "bc336702-9477-4b63-bf88-127290be57f8",
   "metadata": {},
   "source": [
    "and inside that a sub-directory `configs/wave/bindings/Configuration/Capabilities`:"
   ]
  },
  {
   "cell_type": "code",
   "execution_count": null,
   "id": "2c266570-0436-4a4e-9ba7-88a0007cf154",
   "metadata": {},
   "outputs": [],
   "source": [
    "%%bash\n",
    "\n",
    "ls -F configs/wave/bindings/Configuration/Capabilities/"
   ]
  },
  {
   "cell_type": "markdown",
   "id": "97b5d761-0ada-4b8e-9331-0d88ea454e67",
   "metadata": {},
   "source": [
    "```\n",
    "cctki_BOUNDARY.h    cctki_MPI.h           make.CARTGRID3D.deps  make.IOUTIL.defn  make.PUGH.deps\n",
    "cctki_CARTGRID3D.h  cctki_PUGH.h          make.COORDBASE.defn   make.IOUTIL.deps\n",
    "cctki_COORDBASE.h   make.BOUNDARY.defn    make.COORDBASE.deps   make.MPI.defn\n",
    "cctki_FORTRAN.h     make.BOUNDARY.deps    make.FORTRAN.defn     make.MPI.deps\n",
    "cctki_IOUTIL.h      make.CARTGRID3D.defn  make.FORTRAN.deps     make.PUGH.defn\n",
    "```"
   ]
  },
  {
   "cell_type": "markdown",
   "id": "af1cfe38-f5c6-4c22-a7bf-52bdfe270b40",
   "metadata": {},
   "source": [
    "and `make.MPI.defn` is a makefile fragment that contains the actual values used by MPI:"
   ]
  },
  {
   "cell_type": "code",
   "execution_count": null,
   "id": "8c7e01e2-18c1-48f1-b97d-07d877d794c3",
   "metadata": {},
   "outputs": [],
   "source": [
    "%%bash\n",
    "\n",
    "cat configs/wave/bindings/Configuration/Capabilities/make.MPI.defn"
   ]
  },
  {
   "cell_type": "markdown",
   "id": "cb9bdd86-3d17-44dd-b54f-aba8f2bf7639",
   "metadata": {},
   "source": [
    "```\n",
    "INC_DIRS +=  $(MPI_INC_DIRS)\n",
    "INC_DIRS_F +=  $(MPI_LIB_DIRS)\n",
    "MPI_BUILD       = \n",
    "MPI_INSTALL_DIR = \n",
    "HWLOC_DIR       = \n",
    "CCTK_MPI     = 1\n",
    "MPI_DIR      = /usr\n",
    "MPI_INC_DIRS = /usr/lib/x86_64-linux-gnu/openmpi/include/openmpi /usr/lib/x86_64-linux-gnu/openmpi/include\n",
    "MPI_LIB_DIRS = /usr/lib/x86_64-linux-gnu/openmpi/lib\n",
    "MPI_LIBS     = mpi_cxx mpi\n",
    "HAVE_CAPABILITY_MPI = 1\n",
    "```"
   ]
  },
  {
   "cell_type": "markdown",
   "id": "6a9c8845-d408-47d9-b834-a1be6ad3ccd1",
   "metadata": {},
   "source": [
    "## Compiling thorn source code"
   ]
  },
  {
   "cell_type": "markdown",
   "id": "3450ee5d-35b8-4dc0-8209-b1ff1c8c2c4d",
   "metadata": {},
   "source": [
    "So far we have not actually compiled any thorn source code. In this section, we will dig down a bit to understand the steps involved. Let's look at what happens if we compile the `IDScalarWaveC` thorn:"
   ]
  },
  {
   "cell_type": "code",
   "execution_count": null,
   "id": "938abc37-fc7c-4b18-afee-8bbde81974b9",
   "metadata": {},
   "outputs": [],
   "source": [
    "%%bash\n",
    "\n",
    "make wave-build BUILDLIST=IDScalarWaveC"
   ]
  },
  {
   "cell_type": "markdown",
   "id": "61c3695e-cdb9-41e1-8b4d-753843f9c6cb",
   "metadata": {},
   "source": [
    "```\n",
    "Cactus - version: 4.15.0\n",
    "Building thorns 'IDScalarWaveC' of configuration wave\n",
    "Checking status of thorn IDScalarWaveC\n",
    "COMPILING CactusWave/IDScalarWaveC/src/InitialData.c\n",
    "COMPILING CactusWave/IDScalarWaveC/src/CheckParameters.c\n",
    "COMPILING configs/wave/bindings/build/IDScalarWaveC/cctk_ThornBindings.c\n",
    "Creating /home/rhaas80/CactusBare/configs/wave/lib/libthorn_IDScalarWaveC.a\n",
    "```"
   ]
  },
  {
   "cell_type": "markdown",
   "id": "d002e950-373d-4ca9-991b-5af93e68edf9",
   "metadata": {},
   "source": [
    "Which is actually quite short. The thorn contains only two source code files:\n",
    "\n",
    "* `InitialData.c`\n",
    "* `CheckParameters.c`\n",
    "\n",
    "located in its source directory `arrangements/CactusWave/IDScalarWaveC/src`.\n",
    "\n",
    "There is also an auto-generated file `cctk_ThornBindings.c` which handles registration of a thorns grid-variables and scheduled function with the Cactus flesh. It was created as part of the earlier `CST` stage of the build.\n",
    "\n",
    "As is usual for a thorn, the source files to compile are all listed in `make.code.defn`:"
   ]
  },
  {
   "cell_type": "code",
   "execution_count": null,
   "id": "867ec291-054d-4b49-b8c9-5f9b41da55ab",
   "metadata": {},
   "outputs": [],
   "source": [
    "%%bash\n",
    "\n",
    "cat arrangements/CactusWave/IDScalarWaveC/src/make.code.defn"
   ]
  },
  {
   "cell_type": "markdown",
   "id": "cf2ced25-2184-4956-afa5-92d65bd987c1",
   "metadata": {},
   "source": [
    "```\n",
    "# Main make.code.defn file for thorn IDScalarWave\n",
    "# $Header$\n",
    "\n",
    "# Source files in this directory\n",
    "SRCS = InitialData.c CheckParameters.c\n",
    "\n",
    "# Subdirectories containing source files\n",
    "SUBDIRS = \n",
    "```"
   ]
  },
  {
   "cell_type": "markdown",
   "id": "90f4ccf7-5bc1-4ad6-b9ad-96cb52a7ea93",
   "metadata": {},
   "source": [
    "and there are no subdirectories with additional source code files."
   ]
  },
  {
   "cell_type": "markdown",
   "id": "52179f43-7639-4207-a118-f98de3a32efa",
   "metadata": {},
   "source": [
    "Since we did not really see what was going on in the terse output, we will redo compiling one file with `VERBOSE=yes` set."
   ]
  },
  {
   "cell_type": "code",
   "execution_count": null,
   "id": "4554d777-f06c-4726-9142-016831582890",
   "metadata": {},
   "outputs": [],
   "source": [
    "%%bash\n",
    "\n",
    "touch arrangements/CactusWave/IDScalarWaveC/src/InitialData.c\n",
    "make wave-build BUILDLIST=IDScalarWaveC VERBOSE=yes"
   ]
  },
  {
   "cell_type": "markdown",
   "id": "14938e67-3ed0-48e6-b7c7-08e370e04d8c",
   "metadata": {},
   "source": [
    "This (unsurprisingly) produces much more output to screen, and shows exactly which commands `make` executes."
   ]
  },
  {
   "cell_type": "markdown",
   "id": "0cc6519b-37cc-43ed-abba-a5738591b0b5",
   "metadata": {},
   "source": [
    "```\n",
    "[...]\n",
    "Cactus - version: 4.15.0if test \"xIDScalarWaveC\" = \"x\"; then \\\n",
    "[...]\n",
    "  echo Building thorns \\'IDScalarWaveC\\' of configuration wave; \\\n",
    "  cd /home/rhaas80/CactusBare/configs/wave; \\\n",
    "  make -f /home/rhaas80/CactusBare/lib/make/make.configuration TOP=/home/rhaas80/CactusBare/configs/wave CCTK_HOME=/home/rhaas80/CactusBare build; \\\n",
    "fi;\n",
    "Building thorns 'IDScalarWaveC' of configuration wave\n",
    "make[1]: Entering directory '/home/rhaas80/CactusBare/configs/wave'\n",
    "Checking status of thorn IDScalarWaveC\n",
    "________________________________________________________________________\n",
    "make[2]: Entering directory '/home/rhaas80/CactusBare/configs/wave/build/IDScalarWaveC'\n",
    "if [ ! -d ./ ] ; then mkdir -p ./ ; fi\n",
    "cd ./ ; make CCTK_TARGET=make.checked TOP=/home/rhaas80/CactusBare/configs/wave CONFIG=/home/rhaas80/CactusBare/configs/wave/config-data SRCDIR=/home/rhaas80/CactusBare/arrangements/CactusWave/IDScalarWaveC/src THORN=IDScalarWaveC USESTHORNS=\"\" -f /home/rhaas80/CactusBare/lib/make/make.subdir\n",
    "make[3]: Entering directory '/home/rhaas80/CactusBare/configs/wave/build/IDScalarWaveC'\n",
    "gcc -E -M   -pipe -std=gnu99 -O3 /home/rhaas80/CactusBare/arrangements/CactusWave/IDScalarWaveC/src/InitialData.c -I\"/home/rhaas80/CactusBare/arrangements/CactusWave/IDScalarWaveC/src\" -I\"/home/rhaas80/CactusBare/configs/wave/config-data\" -I\"/home/rhaas80/CactusBare/configs/wave/bindings/include\" -I\"/home/rhaas80/CactusBare/src/include\" -I\"/home/rhaas80/CactusBare/arrangements\" -I\"/home/rhaas80/CactusBare/configs/wave/bindings/Configuration/Thorns\" -I\"/home/rhaas80/CactusBare/configs/wave/bindings/include/IDScalarWaveC\" -I\"/home/rhaas80/CactusBare/arrangements/CactusWave/IDScalarWaveC/src\" -I\"/home/rhaas80/CactusBare/configs/wave/bindings/include/IDScalarWaveC\"  -DCCODE > InitialData.c.d\n",
    "perl -pi -e 's{^\\s*\\QInitialData.o\\E\\s*:}{InitialData.c.o InitialData.c.d:}; s{\\s+\\S*[/\\\\](CParameterStructNames\\.h)\\b}{}g' InitialData.c.d\n",
    "1717767988.34154 Preprocessing /home/rhaas80/CactusBare/arrangements/CactusWave/IDScalarWaveC/src/InitialData.c\n",
    "{ if test no = 'yes'; then echo '#line 1 \"'/home/rhaas80/CactusBare/arrangements/CactusWave/IDScalarWaveC/src/InitialData.c'\"'; fi; cat /home/rhaas80/CactusBare/arrangements/CactusWave/IDScalarWaveC/src/InitialData.c; } | perl -s /home/rhaas80/CactusBare/lib/sbin/c_file_processor.pl -line_directives=no -source_file_name=/home/rhaas80/CactusBare/arrangements/CactusWave/IDScalarWaveC/src/InitialData.c /home/rhaas80/CactusBare/configs/wave/config-data > InitialData.c\n",
    "1717767988.37144 Compiling /home/rhaas80/CactusBare/arrangements/CactusWave/IDScalarWaveC/src/InitialData.c\n",
    "current_wd=`pwd` ; cd /home/rhaas80/CactusBare/configs/wave/scratch ; gcc   -pipe -std=gnu99 -O3 -c -o $current_wd/InitialData.c.o $current_wd/InitialData.c -I\"/home/rhaas80/CactusBare/arrangements/CactusWave/IDScalarWaveC/src\" -I\"/home/rhaas80/CactusBare/configs/wave/config-data\" -I\"/home/rhaas80/CactusBare/configs/wave/bindings/include\" -I\"/home/rhaas80/CactusBare/src/include\" -I\"/home/rhaas80/CactusBare/arrangements\" -I\"/home/rhaas80/CactusBare/configs/wave/bindings/Configuration/Thorns\" -I\"/home/rhaas80/CactusBare/configs/wave/bindings/include/IDScalarWaveC\" -I\"/home/rhaas80/CactusBare/arrangements/CactusWave/IDScalarWaveC/src\" -I\"/home/rhaas80/CactusBare/configs/wave/bindings/include/IDScalarWaveC\"  -DCCODE\n",
    "1717767988.58111 Postprocessing /home/rhaas80/CactusBare/arrangements/CactusWave/IDScalarWaveC/src/InitialData.c\n",
    "________________________________________________________________________\n",
    "echo \"\" > make.checked\n",
    "make[3]: Leaving directory '/home/rhaas80/CactusBare/configs/wave/build/IDScalarWaveC'\n",
    "[...]\n",
    "make[1]: Leaving directory '/home/rhaas80/CactusBare/configs/wave'\n",
    "```"
   ]
  },
  {
   "cell_type": "markdown",
   "id": "39fe59d2-7c14-457f-8d83-5b75bb07108d",
   "metadata": {},
   "source": [
    "There's two interesting lines in this mess.\n",
    "\n",
    "```\n",
    "1717767988.34154 Preprocessing /home/rhaas80/CactusBare/arrangements/CactusWave/IDScalarWaveC/src/InitialData.c\n",
    "{\n",
    "  if test no = 'yes'; then\n",
    "    echo '#line 1 \"'/home/rhaas80/CactusBare/arrangements/CactusWave/IDScalarWaveC/src/InitialData.c'\"';\n",
    "  fi;\n",
    "  cat /home/rhaas80/CactusBare/arrangements/CactusWave/IDScalarWaveC/src/InitialData.c;\n",
    "} | perl -s /home/rhaas80/CactusBare/lib/sbin/c_file_processor.pl \\\n",
    "         -line_directives=no \\\n",
    "         -source_file_name=/home/rhaas80/CactusBare/arrangements/CactusWave/IDScalarWaveC/src/InitialData.c \\\n",
    "         /home/rhaas80/CactusBare/configs/wave/config-data \\\n",
    "> InitialData.c\n",
    "```\n",
    "\n",
    "and\n",
    "\n",
    "```\n",
    "1717767988.37144 Compiling /home/rhaas80/CactusBare/arrangements/CactusWave/IDScalarWaveC/src/InitialData.c\n",
    "current_wd=`pwd` ;\n",
    "cd /home/rhaas80/CactusBare/configs/wave/scratch ;\n",
    "gcc   -pipe -std=gnu99 -O3 -c -o $current_wd/InitialData.c.o \\\n",
    "      $current_wd/InitialData.c \\\n",
    "      -I\"/home/rhaas80/CactusBare/arrangements/CactusWave/IDScalarWaveC/src\" \\\n",
    "      -I\"/home/rhaas80/CactusBare/configs/wave/config-data\" \\\n",
    "      -I\"/home/rhaas80/CactusBare/configs/wave/bindings/include\" \\\n",
    "      -I\"/home/rhaas80/CactusBare/src/include\" -I\"/home/rhaas80/CactusBare/arrangements\" \\\n",
    "      -I\"/home/rhaas80/CactusBare/configs/wave/bindings/Configuration/Thorns\" \\\n",
    "      -I\"/home/rhaas80/CactusBare/configs/wave/bindings/include/IDScalarWaveC\" \\\n",
    "      -I\"/home/rhaas80/CactusBare/arrangements/CactusWave/IDScalarWaveC/src\" \\\n",
    "      -I\"/home/rhaas80/CactusBare/configs/wave/bindings/include/IDScalarWaveC\"  \\\n",
    "      -DCCODE\n",
    "```\n",
    "\n",
    "which I have broken down into individual shell commands. Interstingly what is copiled by `gcc` is not the source file in `arrangements/CactusWave/IDScalarWaveC/src/InitialData.c` instead a file in `current_wd` which ends up being `configs/wave/build/IDScalarWaveC`. \n",
    "\n",
    "This is due to Cactus preprocessing both C and Fortran source code, in C/C++'s case only to support the `CCTK_FNAME` \"macro\", but in Fortran's case to expand `DECLARE_CCTK_FOO` and other preprocessors macros. So error messages produced by the compiler will refer to the \"wrong\" source file. \n",
    "\n",
    "For C/C++ files not using `CCTK_FNAME` there are (usually) no differences, so at least line numbers match, not so for Fortran files."
   ]
  },
  {
   "cell_type": "markdown",
   "id": "493ff608-02e9-4f62-a793-2458a1b69953",
   "metadata": {},
   "source": [
    "%%bash\n",
    "\n",
    "diff -suw arrangements/CactusWave/IDScalarWaveC/src/InitialData.c configs/wave/build/IDScalarWaveC/InitialData.c"
   ]
  },
  {
   "cell_type": "markdown",
   "id": "3412d35f-df04-499d-a073-aa84827382f0",
   "metadata": {},
   "source": [
    "```\n",
    "Files arrangements/CactusWave/IDScalarWaveC/src/InitialData.c and configs/wave/build/IDScalarWaveC/InitialData.c are identical\n",
    "```"
   ]
  },
  {
   "cell_type": "markdown",
   "id": "b6db76ee-4521-4df5-954b-cb81a95c8e2f",
   "metadata": {},
   "source": [
    "For Fortran code there are large differences due to the `CCTK_ARGUMENTS` and `DECLARE_CCTK_FOO` macros being expanded. "
   ]
  },
  {
   "cell_type": "code",
   "execution_count": null,
   "id": "2e0ed0b6-5fd9-4311-9129-8a221fa80d41",
   "metadata": {},
   "outputs": [],
   "source": [
    "%%bash\n",
    "\n",
    "make wave-build BUILDLIST=IDScalarWave"
   ]
  },
  {
   "cell_type": "markdown",
   "id": "5e69fb51-278c-4047-8c43-3ffd9bd6f334",
   "metadata": {},
   "source": [
    "```\n",
    "Cactus - version: 4.15.0\n",
    "Building thorns 'IDScalarWave' of configuration wave\n",
    "Checking status of thorn IDScalarWave\n",
    "COMPILING CactusWave/IDScalarWave/src/InitialData.F77\n",
    "COMPILING CactusWave/IDScalarWave/src/CheckParameters.F77\n",
    "COMPILING configs/wave/bindings/build/IDScalarWave/cctk_ThornBindings.c\n",
    "Creating /home/rhaas80/CactusBare/configs/wave/lib/libthorn_IDScalarWave.a\n",
    "```"
   ]
  },
  {
   "cell_type": "code",
   "execution_count": null,
   "id": "273fe651-b712-49f6-a3ae-3cc03a465204",
   "metadata": {},
   "outputs": [],
   "source": [
    "%%bash\n",
    "\n",
    "diff -suw arrangements/CactusWave/IDScalarWave/src/InitialData.F77 configs/wave/build/IDScalarWave/InitialData.f | more"
   ]
  },
  {
   "cell_type": "markdown",
   "id": "b3df3696-571e-44e7-84c4-0e900f7ebae2",
   "metadata": {},
   "source": [
    "```\n",
    "--- arrangements/CactusWave/IDScalarWave/src/InitialData.F77    2024-06-07 11:22:13.143378415 +0000\n",
    "+++ configs/wave/build/IDScalarWave/InitialData.f       2024-06-07 14:21:36.640103919 +0000\n",
    "@@ -1,60 +1,1104 @@\n",
    "[...]\n",
    "-      subroutine IDScalarWave_InitialData(CCTK_ARGUMENTS)\n",
    "[...]\n",
    "+      subroutine IDScalarWave_InitialData(cctk_dim,cctk_gsh,cctk_lsh,cct\n",
    "+     &k_lbnd,cctk_ubnd,cctk_level,cctk_patch,cctk_npatches,cctk_componen\n",
    "+     &t,cctk_tile_min,cctk_tile_max,cctk_ash,cctk_alignment,cctk_alignme\n",
    "+     &nt_offset,cctk_from,cctk_to,cctk_bbox,cctk_delta_time,cctk_time,cc\n",
    "+     &tk_delta_space,cctk_origin_space,cctk_levfac,cctk_levoff,cctk_levo\n",
    "+     &ffdenom,cctk_timefac,cctk_convlevel,cctk_convfac,cctk_nghostzones,\n",
    "+     &cctk_iteration,cctkGH,cctk_ash1,cctk_ash2,cctk_ash3, coarse_dx,coa\n",
    "+     &rse_dy,coarse_dz,phi,phi_p,phi_p_p,r,x,y,z)\n",
    " \n",
    "       implicit none\n",
    " \n",
    "-      DECLARE_CCTK_ARGUMENTS\n",
    "-      DECLARE_CCTK_PARAMETERS\n",
    "-      DECLARE_CCTK_FUNCTIONS\n",
    "\n",
    "-      CCTK_REAL  one\n",
    "+      INTEGER cctk_dim\n",
    "+      integer, parameter :: cctki_use_cctk_dim = kind(cctk_dim)\n",
    "+      INTEGER cctk_gsh (cctk_dim)\n",
    "+      integer, parameter :: cctki_use_cctk_gsh = kind(cctk_gsh)\n",
    "[...]\n",
    "```"
   ]
  },
  {
   "cell_type": "markdown",
   "id": "f42663be-a169-4286-81e6-1d95c958ae6e",
   "metadata": {},
   "source": [
    "In this I have actually remove most changes for the sake of brevity. It is clear though that much more is going on than for just C code. This changes line numbers so that, unless one takes measures, line numbers in Fortran error messages are off by many hundreds of lines even for simple thorns. Further since this is the file actually compiled, using a debugger like `gdb` also shows *this* source code and not the one in `arrangements`."
   ]
  },
  {
   "cell_type": "markdown",
   "id": "61971560-b669-4239-8d74-63f9195ef898",
   "metadata": {},
   "source": [
    "**Aside:** Cactus, and compilers, offer workarounds for this issue by adding special instructions to the source file that tell the compiler which file and line number to report. In Cactus this done via the\n",
    "\n",
    "```\n",
    "C_LINE_DIRECTIVES = yes\n",
    "F_LINE_DIRECTIVES = yes\n",
    "```\n",
    "\n",
    "option list options.\n",
    "\n",
    "**Further Aside:** Preprocessing of Fortran files is not done for files with extension of `.f`, `.f77`, or `.f90` (details in the UsersGuide [C1.2.4](https://www.einsteintoolkit.org/usersguide/UsersGuide.html#x1-54000C1.2.4)), though I have never seen that done in Cactus."
   ]
  },
  {
   "cell_type": "markdown",
   "id": "7ec45992-a6bc-4b2c-ad06-566a2e957d47",
   "metadata": {},
   "source": [
    "## Finish compiling the Cactus executable"
   ]
  },
  {
   "cell_type": "code",
   "execution_count": null,
   "id": "6dbdf88c-6fe1-4e8f-8f75-79e1ace2ef74",
   "metadata": {},
   "outputs": [],
   "source": [
    "%%bash\n",
    "\n",
    "make -j2 wave"
   ]
  },
  {
   "cell_type": "markdown",
   "id": "ae914117-dbec-4292-8b09-b13a80d99363",
   "metadata": {},
   "source": [
    "```\n",
    "Cactus - version: 4.15.0\n",
    "Building configuration wave\n",
    "Checking status of thorn Boundary\n",
    "Checking status of thorn CoordBase\n",
    "COMPILING CactusBase/CoordBase/src/Domain.c\n",
    "[...]\n",
    "Creating cactus_wave in /home/rhaas80/CactusBare/exe from CactusBase/Boundary CactusBase/CartGrid3D CactusBase/CoordBase CactusBase/Fortran CactusWave/IDScalarWave CactusWave/IDScalarWaveC CactusBase/IOASCII CactusBase/IOBasic CactusBase/IOUtil ExternalLibraries/MPI CactusPUGH/PUGH CactusPUGH/PUGHReduce CactusPUGH/PUGHSlab CactusBase/SymBase CactusBase/Time CactusWave/WaveToyC CactusWave/WaveToyF90\n",
    "Done creating cactus_wave.\n",
    "All done !\n",
    "```"
   ]
  },
  {
   "cell_type": "markdown",
   "id": "6e6ce147-c615-4cca-9c45-a95c96b41964",
   "metadata": {},
   "source": [
    "This produces the main Cactus executable `exe/cactus_wave`:"
   ]
  },
  {
   "cell_type": "code",
   "execution_count": null,
   "id": "d9dc7015-63a4-4e41-a357-518abc5c7496",
   "metadata": {},
   "outputs": [],
   "source": [
    "%%bash\n",
    "\n",
    "ls -f exe"
   ]
  },
  {
   "cell_type": "markdown",
   "id": "eedcde24-d9f6-4cd8-b39c-0a7eec68668a",
   "metadata": {},
   "source": [
    "```\n",
    "cactus_wave  ..  .\n",
    "```"
   ]
  },
  {
   "cell_type": "markdown",
   "id": "6d2b46e9-8749-4667-bf00-e6c135687164",
   "metadata": {},
   "source": [
    "If you are used to Simulation Facory then you may wonder why there are no utilities being built. This is because there is a specific target `wave-utils` for building them."
   ]
  },
  {
   "cell_type": "code",
   "execution_count": null,
   "id": "bcb4e32d-2b6e-4d3a-bc1f-8e1953839789",
   "metadata": {},
   "outputs": [],
   "source": [
    "%%bash\n",
    "\n",
    "make wave-utils"
   ]
  },
  {
   "cell_type": "markdown",
   "id": "364455ba-b6db-4163-b43f-07040d4d5b26",
   "metadata": {},
   "source": [
    "```\n",
    "Building utilities for wave\n",
    "Copying mpirun from /usr/bin/mpirun to /home/rhaas80/CactusBare/exe/wave\n",
    "Copying mpirun.openmpi from /usr/bin/mpirun.openmpi to /home/rhaas80/CactusBare/exe/wave\n",
    "Copying ompi-clean from /usr/bin/ompi-clean to /home/rhaas80/CactusBare/exe/wave\n",
    "Copying ompi-server from /usr/bin/ompi-server to /home/rhaas80/CactusBare/exe/wave\n",
    "Copying ompi_info from /usr/bin/ompi_info to /home/rhaas80/CactusBare/exe/wave\n",
    "```"
   ]
  },
  {
   "cell_type": "markdown",
   "id": "6ae952e3-e653-462c-bca7-24ca08446fdc",
   "metadata": {},
   "source": [
    "which produces (copies in this case of using a pre-compiled MPI thorn) utilies in `exe/wave`:"
   ]
  },
  {
   "cell_type": "code",
   "execution_count": null,
   "id": "f54632b0-9207-4679-8fa5-cba8d63d89b9",
   "metadata": {},
   "outputs": [],
   "source": [
    "%%bash\n",
    "ls -fR exe"
   ]
  },
  {
   "cell_type": "markdown",
   "id": "19e0613a-104d-408a-bdf5-6b8ecd682380",
   "metadata": {},
   "source": [
    "```\n",
    "exe:\n",
    "cactus_wave  ..  .  wave\n",
    "\n",
    "exe/wave:\n",
    "ompi_info  mpirun.openmpi  ..  mpirun  ompi-clean  .  ompi-server\n",
    "```"
   ]
  }
 ],
 "metadata": {
  "kernelspec": {
   "display_name": "Python 3 (ipykernel)",
   "language": "python",
   "name": "python3"
  },
  "language_info": {
   "codemirror_mode": {
    "name": "ipython",
    "version": 3
   },
   "file_extension": ".py",
   "mimetype": "text/x-python",
   "name": "python",
   "nbconvert_exporter": "python",
   "pygments_lexer": "ipython3",
   "version": "3.12.3"
  }
 },
 "nbformat": 4,
 "nbformat_minor": 5
}
